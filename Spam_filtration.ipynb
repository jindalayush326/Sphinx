{
 "cells": [
  {
   "cell_type": "markdown",
   "id": "868dd581",
   "metadata": {},
   "source": [
    "# Import the libraries"
   ]
  },
  {
   "cell_type": "code",
   "execution_count": 165,
   "id": "9fd71e65",
   "metadata": {},
   "outputs": [],
   "source": [
    "import numpy as np\n",
    "import pandas as pd\n",
    "import matplotlib.pyplot as plt"
   ]
  },
  {
   "cell_type": "code",
   "execution_count": 166,
   "metadata": {},
   "outputs": [
    {
     "name": "stdout",
     "output_type": "stream",
     "text": [
      "Requirement already satisfied: lazypredict in c:\\users\\ayush jindal\\appdata\\local\\programs\\python\\python39\\lib\\site-packages (0.2.12)\n",
      "Requirement already satisfied: tqdm in c:\\users\\ayush jindal\\appdata\\roaming\\python\\python39\\site-packages (from lazypredict) (4.66.1)\n",
      "Requirement already satisfied: click in c:\\users\\ayush jindal\\appdata\\local\\programs\\python\\python39\\lib\\site-packages (from lazypredict) (8.1.3)\n",
      "Requirement already satisfied: joblib in c:\\users\\ayush jindal\\appdata\\local\\programs\\python\\python39\\lib\\site-packages (from lazypredict) (1.2.0)\n",
      "Requirement already satisfied: xgboost in c:\\users\\ayush jindal\\appdata\\local\\programs\\python\\python39\\lib\\site-packages (from lazypredict) (1.7.6)\n",
      "Requirement already satisfied: lightgbm in c:\\users\\ayush jindal\\appdata\\local\\programs\\python\\python39\\lib\\site-packages (from lazypredict) (4.1.0)\n",
      "Requirement already satisfied: pandas in c:\\users\\ayush jindal\\appdata\\local\\programs\\python\\python39\\lib\\site-packages (from lazypredict) (1.5.3)\n",
      "Requirement already satisfied: scikit-learn in c:\\users\\ayush jindal\\appdata\\local\\programs\\python\\python39\\lib\\site-packages (from lazypredict) (1.2.2)\n",
      "Requirement already satisfied: colorama in c:\\users\\ayush jindal\\appdata\\local\\programs\\python\\python39\\lib\\site-packages (from click->lazypredict) (0.4.5)\n",
      "Requirement already satisfied: numpy in c:\\users\\ayush jindal\\appdata\\local\\programs\\python\\python39\\lib\\site-packages (from lightgbm->lazypredict) (1.24.1)\n",
      "Requirement already satisfied: scipy in c:\\users\\ayush jindal\\appdata\\local\\programs\\python\\python39\\lib\\site-packages (from lightgbm->lazypredict) (1.10.0)\n",
      "Requirement already satisfied: pytz>=2020.1 in c:\\users\\ayush jindal\\appdata\\local\\programs\\python\\python39\\lib\\site-packages (from pandas->lazypredict) (2022.2.1)\n",
      "Requirement already satisfied: python-dateutil>=2.8.1 in c:\\users\\ayush jindal\\appdata\\local\\programs\\python\\python39\\lib\\site-packages (from pandas->lazypredict) (2.8.2)\n",
      "Requirement already satisfied: threadpoolctl>=2.0.0 in c:\\users\\ayush jindal\\appdata\\local\\programs\\python\\python39\\lib\\site-packages (from scikit-learn->lazypredict) (3.1.0)\n",
      "Requirement already satisfied: six>=1.5 in c:\\users\\ayush jindal\\appdata\\local\\programs\\python\\python39\\lib\\site-packages (from python-dateutil>=2.8.1->pandas->lazypredict) (1.12.0)\n",
      "Note: you may need to restart the kernel to use updated packages.\n"
     ]
    },
    {
     "name": "stderr",
     "output_type": "stream",
     "text": [
      "WARNING: Ignoring invalid distribution -treamlit (c:\\users\\ayush jindal\\appdata\\local\\programs\\python\\python39\\lib\\site-packages)\n",
      "WARNING: Ignoring invalid distribution -treamlit (c:\\users\\ayush jindal\\appdata\\local\\programs\\python\\python39\\lib\\site-packages)\n",
      "WARNING: Ignoring invalid distribution -treamlit (c:\\users\\ayush jindal\\appdata\\local\\programs\\python\\python39\\lib\\site-packages)\n",
      "WARNING: Ignoring invalid distribution -treamlit (c:\\users\\ayush jindal\\appdata\\local\\programs\\python\\python39\\lib\\site-packages)\n",
      "WARNING: Ignoring invalid distribution -treamlit (c:\\users\\ayush jindal\\appdata\\local\\programs\\python\\python39\\lib\\site-packages)\n",
      "WARNING: Ignoring invalid distribution -treamlit (c:\\users\\ayush jindal\\appdata\\local\\programs\\python\\python39\\lib\\site-packages)\n",
      "\n",
      "[notice] A new release of pip available: 22.3.1 -> 23.3.1\n",
      "[notice] To update, run: python.exe -m pip install --upgrade pip\n"
     ]
    }
   ],
   "source": [
    "pip install lazypredict"
   ]
  },
  {
   "cell_type": "code",
   "execution_count": 167,
   "metadata": {},
   "outputs": [],
   "source": [
    "from lazypredict.Supervised import LazyClassifier\n"
   ]
  },
  {
   "cell_type": "markdown",
   "id": "ea648e1e",
   "metadata": {},
   "source": [
    "# Import the dataset"
   ]
  },
  {
   "cell_type": "code",
   "execution_count": 168,
   "id": "75eca880",
   "metadata": {},
   "outputs": [],
   "source": [
    "dataset = pd.read_csv('D:\\ml\\practice\\Classification\\emails.csv')\n",
    "X = dataset.iloc[:,0].values\n",
    "y = dataset.iloc[:,-1].values"
   ]
  },
  {
   "cell_type": "markdown",
   "id": "b1540d2f",
   "metadata": {},
   "source": [
    "# Split the dataset into train and test set"
   ]
  },
  {
   "cell_type": "code",
   "execution_count": 169,
   "id": "5113430a",
   "metadata": {},
   "outputs": [],
   "source": [
    "from sklearn.model_selection import train_test_split\n",
    "X_train, X_test, y_train, y_test = train_test_split(X,y,test_size=0.5,random_state=0)"
   ]
  },
  {
   "cell_type": "code",
   "execution_count": 170,
   "id": "bb219724",
   "metadata": {},
   "outputs": [
    {
     "name": "stdout",
     "output_type": "stream",
     "text": [
      "['Subject: a few comments  john ,  happy new year . i hope the first few weeks of this year will see the  completed paper .  i am sending you the last version of the paper i have received with a few  comments ( in red ) . i think it makes sense to discuss the paper over the  phone . i have a number of more detailed comments .  vince  - enron transformation paperl 2 _ 17 _ 00 _ vk . doc'\n",
      " 'Subject: alliance info alert : richardson and ferc orders  dear generation / power marketing executive :  the following are summaries of two significant activities that occurred  friday , december 15  1 . energy secretary richardson issuance of an emergency order .  ( richardson \\' s statement and fpa section 202 ( c ) order is posted on doe \\' s  web site at :  http : / / www . energy . gov / hqpress / releaseso 0 / decpr / pro 0309 . html )  2 . ferc \\' s 12 / 15 / 00 final order to fix california wholesale markets  ( ferc \\' s order can be viewed at  california supplies ordered by richardson  o richardson orders listed entities to supply excess power to california iso  o order is effective as soon as iso certifies shortage , but ends 12 / 21 / 00 ,  unless extended  o prices to be agreed to by supplier and iso , or ferc will set rate later  o fpa emergency power authority transferred to doe in 1977  as he said he would on december 13 , u . s . department of energy secretary bill  richardson found \" an emergency exists in california by reason of the shortage  of electric energy \" and issued an emergency order under section 202 ( c ) of  the federal power act ( fpa ) requiring listed generators and marketers to  provide any power in excess of the needs of their firm customers to the  california iso . in a statement , richardson said the threat to the  reliability of the california grid requires a long - term solution , but that in  the short - term power must keep flowing to the state to avert blackouts .  the 76 listed suppliers have 12 hours after the iso certifies to doe that it  has been unable to acquire adequate supplies in the market to begin providing  requested service to the iso . the iso must inform each supplier subject to  the order of the amount and type of energy or services required by 9 : 00 pm ,  eastern standard time , the day before the services are needed . the order  directs the iso to allocate , to the extent feasible , requested services among  subject entities in proportion to each supplier \\' s available excess power .  the order is effective immediately and will terminate at 3 : 00 am , eastern  time , december 21 , 2000 , unless extended . to continue to obtain supplies  under this emergency authority , the iso must re - certify the shortage to doe  headquarters every 24 hours .  the terms of the provision of electric energy and other services by suppliers  to the iso \" are to be agreed to by the parties . \" if no agreement is reached ,  then under the fpa \\' s emergency authority secretary richardson \" will  immediately prescribe the conditions of service and refer the rate issue to  the federal energy regulatory commission for a determination at a later date  by that agency in accordance with its standards and procedures , and will  prescribe by supplemental order such rates as it finds to be just and  reasonable . \" the authority of ferc to set rates for power supplied under  emergency order at just and reasonable levels where the parties themselves do  not agree to a rate is explicitly included in fpa section 202 ( c ) . the doe  organization act of 1997 transferred the emergency powers of this section  from ferc to doe .  the 76 entities identified in the order \\' s attachment are all the entities  that have provided power to the iso over the last 30 days . those entities  are ordered \" to make arrangements to generate , deliver , interchange , and  transmit electric energy when , as , and in such amounts as may be requested by  the \" iso , \" acting as agent for and on behalf of scheduling coordinators . \"  [ source : doe secretary richardson \\' s december 14 , 2000 statement and order ;  electric power daily , december 15 , 2000 ]  ferc de - federalizes california markets , adopts other structural  reforms  a summary of the december 15 order and commission discussion  at its special meeting today , ferc unanimously approved its eagerly awaited  final order reforming the california wholesale markets , adopting the major  outlines of its november 1 proposed order and sending back to california the  responsibility for addressing state - related matters , as discussed below . at  the same time , ferc deferred consideration of retroactive refund issues as  well as the imposition of region - wide price caps .  ferc reiterated the november 1 conclusions that under certain circumstances ,  california ratepayers were subjected to unjust and unreasonable power rates  due to california \\' s \" seriously flawed \" market structure and rules in  conjunction with tight demand and supply conditions throughout the west .  while all four commissioners supported the order as a consensus - based outcome  that appropriately balanced all competing interests , each commissioner  expressed reservations with particular aspects of the order . chairman  hoecker and comm . breathitt expressed the strongest endorsement , while comms .  hebert and massey laid out their positions where they believed the commission  had either \" over - reached \" or not gone far enough , just as they did on  november 1 , as discussed below .  highlights of key actions :  ( 1 ) ferc adopted the november 1 proposal to eliminate , effective immediately ,  the state \\' s mandatory requirement that the state \\' s investor - owned utilities  buy and sell electricity through the px , and allow these utilities to  purchase electricity through forward contracts and other alternative  mechanisms to manage supply risks . ferc terminated the px \\' s rate schedules  effective at the close of business on april 30 , 2001 . in effect , as chairman  hoecker stated , the order de - federalizes 60 percent of the california  wholesale market established under the state \\' s restructuring law , returning  ratemaking authority over company - owned generation to the california public  utilities commission ( cpuc ) .  ( 2 ) ferc modified the effective period of the november 1 $ 150 / mwh \" soft cap \"  proposal , limiting its application through april 2001 , whereupon a  \" comprehensive and systematic monitoring and mitigation program which  incorporates appropriate thresholds , screen and mitigation measures \" must be  in place . in a related move , ferc ordered a technical conference early next  year to develop such a program by march 1 , 2001 , so that these measures can  be place by the may 1 , deadline .  in a major modification , ferc revised the refund conditions to clarify that  while certain refund conditions will continue to apply , unless ferc issues  written notification to the seller that its transaction is still under  review , refund potential on a transaction will close after 60 days .  as proposed , however , supply bids in excess of $ 150 will be prohibited from  setting the market - clearing price for all bidders and sellers bidding above  $ 150 / mwh will be required to report their bids to ferc on a confidential ,  weekly basis and provide certain cost support .  ( 3 ) ferc adopted the november 1 proposal to require the establishment of  independent , non - stakeholder governing board for the iso . the iso governing  board must relinquish their decision - making power and operating control to  the iso management on january 29 , 2001 . a future order will set procedures  for discussion with state representatives on the board selection process .  ( 4 ) in a major modification , ferc adopted a $ 74 / mwh \" price benchmark \" for  assessing prices of five - year energy supply contracts . this benchmark will  be used in assessing any complaints regarding justness and reasonableness of  pricing long - term contracts .  to facilitate prompt negotiation of longer term power contracts at reasonable  rates , ferc announced that it will hold a settlement conference with market  participants .  ( 5 ) ferc adopted the november 1 proposal to require market participants to  schedule 95 percent of their transactions in the day - ahead market and  instituting a penalty charge for under - scheduling ( in excess of five percent  of hourly load requirements ) , in order to discourage over - reliance on the  real - time spot market .  ( 6 ) ferc directed the iso and the three investor - owned utilities to file  generation interconnection standards .  ( 7 ) ferc affirmed the longer - term measures proposed in the november 1 order ,  including submission of a congestion management design proposal by april 2 ,  2001 .  ( 8 ) ferc deferred resolving key issues , including establishing new iso board  selection procedures , developing appropriate market monitoring measures and  negotiating protective orders associated with data collection .  ( 9 ) ferc reiterated its november 1 call to california policy makers there to  resolve state issues , such as : ( 1 ) immediately implementing the availability  of day ahead markets for power purchases ; ( 2 ) development of demand  responses ; ( 3 ) siting of generation and transmission ; and ( 4 ) assurance of  sufficient reserve requirements .  commissioner responses  comm . hebert reluctantly concurred , calling the final order a \" missed  opportunity \" to , among other things , send appropriate signals for new  generation siting and conservation . reiterating his november 1 concerns ,  hebert recounted the remedial remedies that he maintained the commission  should and should not have adopted . while expressing pleasure at the tone of  the order ( \" balanced and considerate \" ) , the bid certainly reversal , and the  role reserved for the state in the selection of the new iso board , hebert  nonetheless objected to the benchmark prices established in the order , which  he maintained appeared to be unreasonably low . hebert faulted the commission  for not attempting to reconcile the instant order with the november 8 order  approving the ca iso \\' s emergency $ 250 / mwh \" soft cap \" proposal . hebert ended  by challenging the cpuc to do what it can to encourage utilities there to  forward contract , including easing the existing prudence review requirements .  comm . breathitt endorsed the order , reiterating her support for progress  towards open and competitive markets . she noted that the order properly  \" walked the line \" by taking all of the competing interests into account ,  calling it less than ideal , but a step in the right direction . she also  concentrated her remarks on the importance of creating stability which will  be accomplished by encouraging long term contracts and the implementation of  the $ 150 / mwh breakpoint . additionally she mentioned that any price below the  $ 74 / mwh benchmark will be presumed just and reasonable .  comm . massey concurred , but prefaced his remarks by expressing sympathy for  california ratepayers , stating that he felt that market power had been  exercised , that prices were not just and reasonable and that the marketers  had profited too much at the expense of others in the market . he warned  that , as he understood the legal precedents , the federal courts were poised  to grant cost recovery relief to the retailers which would then be passed on  to consumers . on the positive side , he approved of the de - federalization of  60 % of the market and the creation of long term contracts . however , he  emphasized that california regulators must now take the responsibility of  creating more generation and transmission . in the long term , comm . massey  hoped that solutions could be reached starting with a technical conference  and that the market would have rules more like pjm .  finally , comm . massey articulated what he would have liked to have done  differently . he stated that he disagreed with the fact that there is not  enough evidence to show that market power existed and he pointed to the  on - going investigation . he also disagreed with the $ 150 / mwh breakpoint ,  preferring instead a hard price per generator . the commissioner said he  would have set the long term benchmark for only two years instead of five and  that he would have opened a section 206 investigation in the west . finally ,  he stated that he would have liked to address the issue of refunds .  chairman hoecker began his comments by saying that the commission was forced  to act and act quickly because the stakes are so high . he feels that it is  now time for the state regulators and markets to act . he noted that by  shrinking the cal px , the responsibility is now with the cpuc to fashion the  long term contracts and that hopefully we will exit this situation with the  least amount of damage to the utilities . in regards to suggestions for a  regional price cap , the chairman stated that this would not work due to the  fact that the commission has no jurisdiction over bonneville , wapa and the  public power producers and that there is no spot market in the northwest .  however , he did urge secretary richardson to convene a conference in order to  address regional issues . finally , in conceptually addressing the california  situation , the chairman stated that competition or \" deregulation \" did not  fail in california , but that there never was competition in california .'\n",
      " \"Subject: [ ilug - social ] lose 22 . 5 lbs in 3 weeks !  1 ) lose 22 . 5 lbs in 3 weeks !  flush fat away forever ! free 30 - day supply  http : / / www . adclick . ws / p . cfm ? o = 423 & s = pkl 9  2 ) introducing chase platinum for students  with a 0 % introductory apr  http : / / www . adclick . ws / p . cfm ? o = 421 & s = pkl 9  3 ) access your pc from anywhere - download now  http : / / www . adclick . ws / p . cfm ? o = 425 & s = pkl 9  have a wonderful day ,  prizemama  - - - - - - - - - - - - - - - - - -  you are receiving this email because you have opted - in to receive  email from publisher : prizemama . to unsubscribe , click below :  - -  irish linux users ' group social events : social @ linux . ie  http : / / www . linux . ie / mailman / listinfo / social for ( un ) subscription information .  list maintainer : listmaster @ linux . ie\"\n",
      " ...\n",
      " 'Subject: request submitted : access request for sandeep . kohli @ enron . com  you have received this email because the requester specified you as their  manager . please click  approval to review and act upon this request .  request id : 000000000025312  request create date : 3 / 23 / 01 9 : 52 : 03 am  requested for : sandeep . kohli @ enron . com  resource name : visual studio enterprise  resource type : applications'\n",
      " 'Subject: houston trip  hi jaideep !  my first suggestion is that you come to houston as scheduled ( and arranged  with wharton nearly 3 weeks ago ) . alternatively , rely on your tiger  teammates to gather information necessary to respond to the project . should  circumstances lead you to decide not to come for this trip , please return the  ticket issued to you . should it make sense for you to visit enron some time  in the future , we can discuss arrangements at that time .  hope to see you soon !  - - christie .  - - - - - - - - - - - - - - - - - - - - - - forwarded by christie patrick / hou / ect on 01 / 18 / 2001  01 : 22 am - - - - - - - - - - - - - - - - - - - - - - - - - - -  \" jaideep singh \" on 01 / 17 / 2001 08 : 58 : 51 pm  to :  cc :  subject : houston trip  hello christie ,  thank you for organizing the wharton trip to enron . unfortunately , the  flight setup for tomorrow is way too early for me as i \\' ll have to miss over  4 hours of classes , which i cannot afford to do . i tried changing the time  with continental and there latest flight leaves at 6 pm - which does not work  for me ( smack in the middle of my 3 hour class )  thus the dilemma that i find myself in is the following :  a . try a different flight as i can make any flight after 7 : 30 pm ( however , i  have no control over reservations / budget etc )  b . as it is possible to delay travel upto 1 year , use this ticket to come  some other time  sorry for this but i just saw the bookings today .  any suggestions ?  thanks ,  jaideep'\n",
      " 'Subject: cv - keith baggerly  i have attached a copy of my cv as a postscript file .  if you need further info , or a different format , please  let me know .  enjoy !  keith baggerly  asst professor , statistics  rice university  ( 713 ) 348 - 5282  kabagg @ stat . rice . edu  - 00 apr . ps']\n"
     ]
    }
   ],
   "source": [
    "print(X_train)"
   ]
  },
  {
   "cell_type": "code",
   "execution_count": 171,
   "metadata": {},
   "outputs": [
    {
     "name": "stdout",
     "output_type": "stream",
     "text": [
      "[0 0 1 ... 0 0 0]\n"
     ]
    }
   ],
   "source": [
    "print(y_train)"
   ]
  },
  {
   "cell_type": "code",
   "execution_count": 172,
   "id": "bcaddfdf",
   "metadata": {},
   "outputs": [
    {
     "name": "stdout",
     "output_type": "stream",
     "text": [
      "[\"Subject: re : comments  fyi .  - - - - - - - - - - - - - - - - - - - - - - forwarded by rakesh bharati / na / enron on 03 / 27 / 2001  07 : 43 pm - - - - - - - - - - - - - - - - - - - - - - - - - - -  sheridan titman on 03 / 27 / 2001 06 : 46 : 31 pm  to : rakesh . bharati @ enron . com  cc :  subject : re : comments  rakesh :  thanks for your input . they are quite useful for helping me clarify my own  thinking . the following are my responses to your comments and  clarifications . the * * ed paragraphs are from me and the others are from you .  1 . the money is being set aside to avoid negative values . it is not clear  if you mean the values of the cash flow or the pv at the node . anyhow , we  shall be setting aside money not just for that specific node but all nodes  at that cross - section of time as the risk - free asset pays in all states of  nature . this will have to be done every time there is a negative  realization . thus , for the typical project we have , the value of risk  capital may be extremely high , as we are not following a tail - based norm  anymore .  * * i agree that this is confusing and needs further refinement . i do this  because i have some concerns about discounting negative cash flows , ( this  is discussed in my first memo ) . this clearly provides a conservative  estimate of firm value , and a measure of risk capital that is too high .  from the perspective of evaluating the appropriate level of risk capital ,  it is sufficient that enough capital be employed so that the pv at each  node is positive . also , one might want to set the level so that the pv is  positive in say 98 % of all nodes .  2 . your memo appears to suggest that debt capacity is contingent on all  values being positive . if so , we are only issuing risk - free debt . also , a  project with a single negative value at each cross - section of time will not  have a positive debt capacity .  * * again , this is a very conservative initial estimate . when the model is  refined , you probably want to define debt capacity so that the project  defaults a certain percent of the time .  3 . it seems that our optimization argument is the discount rate , which is  obtained in each step from the comparison investment ( by equating the  variances ) . it is not clear if changing the discount rate will have such  an effect on the project variance so as to lead to a global convergence .  * * i am not assuming that the change in the discount rate has a major effect  on volatility . in fact , i think the process requires only one iteration  when the volatility is independent of the discount rate . again , the idea  is that we calculate the volatility of the project ' s value calculated with  an initial discount rate . using the calculated volatility and the stock of  a comparison firm , calculate a more appropriate discount rate . if the  volatility of the project ' s value is not affected by the change in discount  rates then we are done . if , however , the change in discount rates changes  volatility , then we may have to iterate .  let me know if this makes sense . * *  also , our project has a finite life and the market - based assets will have  infinite lives . in the light of this fact , how will we define the relevant  variance ? is it the spot variance of the returns of the comparison  investment ?  * * this is a good point . i was thinking in terms of the average variance ,  but this may not be correct . actually , we know that this is just an  approximation and we need to think about whether or not it is a good  approximation . typically , firms tend to ignore issues relating to the  duration of their project cash flows when they determine discount rate ,  which clearly does not make sense . this requires some additional thought . * *  4 . finally , our criterion is to subtract from the average pv the  investment and also the risk capital . setting risk capital to zero , this  model closely resembles the intuitive present value criterion and  endogenously determines the discount rate .  * * this is correct . my goal was to come up with something that was closely  related to what you are already doing but which gives you some insight into  how to define risk capital and the appropriate discount rate . there are a  number of ways that we can refine and improve this procedure . what we need  to first consider is whether or not the basic approach makes sense for the  kind of projects that you are evaluating . * *  gas field case  to facilitate your thinking , we are providing a gas field example below .  we invest x million dollars to buy and develop a gas field . a profile of  expected production and variance of the production per year is available  from the engineers at the beginning . production will be autocorrelated , as  the profile will shift up or down based on the actual gas reserves being  more or less than the estimated reserves . we assume the life of the field  to be 10 years with no salvage value . there are fixed and variable  operating costs . it might be useful for you to think about applying the  framework to this problem .  * * this problem is probably pretty straightforward because it is unlikely  that the cash flows will be negative once the gas field is producing .  hence , there is no need to be concerned about risk capital ( other than the  x million dollars to buy and develop the property ) . to value the property  assuming all - equity financing we calculate the value process of the  developed project and compare its volatility to a comparison investment  whose value process is observable ( e . g . , a traded mlp ) . the risk - adjusted  return of the comparison investment would then be used to discount the cash  flows of the gas field .  please note that this procedure requires relatively strong assumptions and  calculating the risk - adjusted return on the comparison investment is not  necessarily straightforward . * *  let me know when you would like to discuss this .  * * * * * * * * * * * * * * * * * * * * * * * * * * * * * * * *  on another topic , is it possible for you to give me information about one  case where enron bought or sold a base load power plant , where the  purchaser financed the transaction with non - recourse debt . we would like  the following information :  1 . the value of the power plant ( or purchase price )  2 . the amount of debt financing and the terms of the debt contract .  3 . some information about the pricing of gas - power swaps and options .  about a year ago i gave vince a paper which develops a pricing model for  project debt . i don ' t think he thought that it could be implemented on the  type of projects that enron finances . however , my coauthors would like to  try applying the model for one case study .  let me know when you want to discuss these issues .  thanks ,  sheridan  sheridan titman  department of finance  college of business administration  university of texas  austin , texas 78712 - 1179  512 - 232 - 2787 ( phone )  512 - 471 - 5073 ( fax )  titman @ mail . utexas . edu\"\n",
      " 'Subject: arthur andersen model validation request  vince ,  our goal is to validate that the enron global market book  administrators are accurately using the \" spread option model \" as developed by  the research group . to determine this , we would like to provide you with  the inputs for a particular deal ( as provided by a global markets book  administrator ) and have you recalculate the deal value . we will then  compare your results to the values calculated by global markets .  two koch deals have been chosen due to their substantial p / l effect . i have  attached the deal data in two forms : ( 1 ) the spread option model that kara  boudreau , book administrator egm , provided and ( 2 ) an excel spreadsheet that  isolates the 2 deals .  if there is anything more that we could provide , please don \\' t hesitate to  call me at x 30968 .  thank you so much for all of your help .  gillian  1 .  2 .'\n",
      " 'Subject: save your money buy getting this thing here  you have not tried cialls yet ?  than you cannot even imagine what it is like to be a real man in bed !  the thing is that a great errrectlon is provided for you exactiy when you want .  cialis has a lot of advantages over viagra  - the effect lasts 36 hours !  - you are ready to start within just 10 minutes !  - you can mix it with aicohol ! we ship to any country !  get it right now ! . '\n",
      " ...\n",
      " \"Subject: oreo cookies nationwide survey - win a years supply of oreos .  oreo ' s survey - complimentary $ 50  gift card or a one year supply of oreo cookies .  upwhyvkg\"\n",
      " 'Subject: access on the block : international transmission auctions - cera a  lert - december 20 , 2000  title : access on the block : international transmission auctions are opening  european power markets  e - mail category : cera insight  cera knowledge area : european power  despite an apparent impasse in negotiations among european transmission  system operators , regulators , and the european commission in florence ,  auctions of international transmission capacity ( itc ) in france , the united  kingdom , denmark , belgium , italy , austria , switzerland , slovenia , and the  netherlands are opening access between countries and paving the way for the  single european marketplace .  however , the patchwork auctioning of access to itc leaves important issues  unresolved . the most significant of these include the potential for gaming ,  third - party transit , and the allocation of auction proceeds . as they stand ,  these issues , cera believes , are likely to lead to action at the european  level and the eventual imposition of a more integrated scheme .  nevertheless , current plans to open most of europe \\' s itc represent a  watershed of activity that will hasten transparency in the market and  determine trade flows and signal transmission investment in 2001 .  international auctions are opening markets  a major portion of international transmission capacity on the continent will  be allocated by auction in 2001 ( see table 1 ) . in cera \\' s view auctions for  itc are likely to have the greatest impact during 2001 in the following areas :  * increasing market transparency . the posting of available transmission  capacity on yearly , monthly , and daily bases will facilitate the market \\' s  efficient usage of scarce interconnector capacity . for the first time ,  signals for new transmission investment , power flows , and transmission asset  valuation will come from the market .  * increasing cross - border trade . although auctions may not reduce uncertainty  in the marketplace initially , the effect of heightened transparency in access  rules and prices will soon work to increase trade . secondary markets for  interconnector capacity will add to the number of actively traded power  products and work to increase the overall level of trade . ?  * increasing price correlation . auctions will replace nonmarket - based  allocation methods such as long - term capacity reservation . the dynamic  character of shorter - term auctions , combined with an expected secondary  market for capacity , should bring access to international capacity in line  with the needs of the market . in this way the market will be able to adjust  more rapidly to changes in local conditions and thereby work to correlate  pricing points .  * increasing competition . once players have secured access to itc at a given  price , they will be looking to sign supply contracts or integrate the  capacity into structured deals . the result could be more aggressive  maneuvering on the part of incumbents and new entrants alike , resulting in  greater competition at the national level .  * reducing the competitiveness of imports . the results of international  transmission capacity auctions will determine the competitiveness of imported  power into domestic markets . final prices offered for itc will reflect the  relative cost of power between markets and work to make cheaper power more  expensive to import .  * spurring investment in transmission . the money raised through auction could  provide transmission companies with the financial capability to invest in  upgrading international transmission links . access to international  transmission capacity between the netherlands , germany , and belgium in 2001  was auctioned for 63 million euros ( see http : / / www . tso - auction . org for  details ) . ? auctions for access into spain , france , and italy are expected to  realize a premium for access to highly coveted markets .  connecting rather than integrating markets  auctions between national grids , or more accurately commercial grids , are a  pragmatic approach to the problem of granting access to scarce international  transmission capacity on an open and transparent basis . the auctions will  open access to interconnectors and at the same time reward transmission  system operators .  even so , the proposed approaches are not likely to satisfy market players or  the stated objectives of european policymakers . in cera \\' s view the following  issues may eventually bring down the hammer on itc auctions :  * third - party transit . the bilateral nature of itc auctions perpetrates the  problem of tariff pancaking and discriminates against trade involving transit  through a third grid . this is ultimately inconsistent with the european  commission \\' s objective of a single european power market . the fact that  physical power flows do not follow contractual flows and almost always  transit third - party grids further weakens the legitimacy of the approach .  * transaction - based scheme . although still transactional in nature ( tied to a  specific deal ) , auctions fall within the european commission \\' s stated  preference for market - based mechanisms for allocating international  transmission capacity . it remains to be seen how successful this approach is  in achieving integration of national markets . action at the european level  could move allocation of itc in the direction of nontransactional mechanisms  such as market splitting , counter trading , or redispatching .  * gaming of auctions . auctions will in theory allocate access to transmission  on a nondiscriminatory market basis to those that value it most . in practice  it remains to be seen if gaming can be avoided . even though most of the  auctions have placed limits on ownership of transmission capacity , tactical  maneuvers could bid up transmission prices as players act to raise the price  of imported power .  * allocating auction proceeds . one likely outcome of auctions will be the  transfer of profits between players as transmission owners recoup some of the  rents currently reaped by other players . this will works to raise the value  of transmission assets relative to generation , suppliers , or traders . it  remains to be seen how funds from auctions will be allocated among  transmission companies and the grid , as transmission is still currently  subject to monopoly regulation .  * * end * *  come shoot the rapids with us at ceraweek 2001 , \" shooting the rapids :  strategies and risks for the energy future \" in houston , february 12 - 16 ,  2001 ! ? for more information and to register , please visit  http : / / www 20 . cera . com / ceraweek /  to make changes to your cera . com account go to :  forgot your username and password ? go to :  http : / / www 20 . cera . com / client / forgot  this electronic message and attachments , if any , contain information from  cambridge energy research associates , inc . ( cera ) which is confidential and  may be privileged . unauthorized disclosure , copying , distribution or use of  the contents of this message or any attachments , in whole or in part , is  strictly prohibited .  terms of use : http : / / www 20 . cera . com / tos  questions / comments : webmaster @ cera . com  copyright 2000 . cambridge energy research associates'\n",
      " 'Subject: returned mail : response error  the original message was received at tue , 19 jul 2005 11 : 57 : 45 + 0100  - - - - - the following addresses had permanent fatal errors - - - - -  - - - - - transcript of session follows - - - - -  . . . while talking to mailin - 02 . mx . aol . com  > > > data  < < < 554 transaction failed']\n"
     ]
    }
   ],
   "source": [
    "print(X_test)"
   ]
  },
  {
   "cell_type": "code",
   "execution_count": 173,
   "id": "496c76ff",
   "metadata": {},
   "outputs": [
    {
     "name": "stdout",
     "output_type": "stream",
     "text": [
      "[0 0 1 ... 1 0 1]\n"
     ]
    }
   ],
   "source": [
    "print(y_test)"
   ]
  },
  {
   "cell_type": "code",
   "execution_count": 174,
   "metadata": {},
   "outputs": [
    {
     "data": {
      "text/plain": [
       "text    object\n",
       "spam     int64\n",
       "dtype: object"
      ]
     },
     "execution_count": 174,
     "metadata": {},
     "output_type": "execute_result"
    }
   ],
   "source": [
    "dataset.dtypes"
   ]
  },
  {
   "cell_type": "markdown",
   "id": "84aea1e2",
   "metadata": {},
   "source": [
    "# Feature Scaling"
   ]
  },
  {
   "cell_type": "code",
   "execution_count": 175,
   "metadata": {},
   "outputs": [],
   "source": [
    "from sklearn.feature_extraction.text import TfidfVectorizer\n",
    "vectorization = TfidfVectorizer()\n",
    "X_train  = vectorization.fit_transform(X_train)\n",
    "X_test = vectorization.transform(X_test)"
   ]
  },
  {
   "cell_type": "code",
   "execution_count": 176,
   "metadata": {},
   "outputs": [],
   "source": [
    "# from sklearn.feature_extraction.text import TfidfVectorizer\n",
    "# feature_extraction = TfidfVectorizer(min_df=1)\n",
    "# # min_df is minimum woords is 1 ie words should be greater then 1\\\n",
    "# # stop_words english means doesnot include is are am etc.\n",
    "# # all the letter converted into lowercase\n",
    "# X_train = feature_extraction.fit_transform(X_train)\n",
    "# X_test = feature_extraction.transform(X_test)\n",
    "# y_train = y_train.astype('int')\n",
    "# y_test = y_train.astype('int')"
   ]
  },
  {
   "cell_type": "code",
   "execution_count": 177,
   "id": "22d43510",
   "metadata": {},
   "outputs": [
    {
     "name": "stdout",
     "output_type": "stream",
     "text": [
      "  (0, 26719)\t0.02344341807919635\n",
      "  (0, 26634)\t0.024010979334606736\n",
      "  (0, 26625)\t0.04881920948862304\n",
      "  (0, 26587)\t0.01451298280091108\n",
      "  (0, 26584)\t0.025392347472134272\n",
      "  (0, 26416)\t0.031206206904746816\n",
      "  (0, 26285)\t0.030412885659009157\n",
      "  (0, 26203)\t0.052597443488532854\n",
      "  (0, 26164)\t0.023857530374632858\n",
      "  (0, 26128)\t0.04249041835212227\n",
      "  (0, 26127)\t0.03377722113298208\n",
      "  (0, 26119)\t0.027485443597581687\n",
      "  (0, 26116)\t0.05771595123490007\n",
      "  (0, 26104)\t0.020457749740214637\n",
      "  (0, 25960)\t0.1089506075498489\n",
      "  (0, 25950)\t0.020434799117794163\n",
      "  (0, 25907)\t0.029953764262644234\n",
      "  (0, 25867)\t0.035275026599796394\n",
      "  (0, 25734)\t0.1252834124741042\n",
      "  (0, 25633)\t0.006708669860368969\n",
      "  (0, 25553)\t0.010518579533608062\n",
      "  (0, 25434)\t0.03249357118773251\n",
      "  (0, 25433)\t0.13784836042450335\n",
      "  (0, 25431)\t0.02616778563021736\n",
      "  (0, 25410)\t0.06442546525623649\n",
      "  :\t:\n",
      "  (2863, 16776)\t0.17732683100796334\n",
      "  (2863, 16107)\t0.09018174910375772\n",
      "  (2863, 15446)\t0.28322145492422335\n",
      "  (2863, 15434)\t0.09067468634551719\n",
      "  (2863, 14047)\t0.18932425748105794\n",
      "  (2863, 11866)\t0.11044103729335839\n",
      "  (2863, 10770)\t0.16045530207752998\n",
      "  (2863, 10768)\t0.10170879911776018\n",
      "  (2863, 10377)\t0.2518306655986519\n",
      "  (2863, 10274)\t0.1980921630698126\n",
      "  (2863, 9782)\t0.2165574001535854\n",
      "  (2863, 9781)\t0.15205776276886387\n",
      "  (2863, 7676)\t0.12266020271041997\n",
      "  (2863, 6465)\t0.07031800979218877\n",
      "  (2863, 3943)\t0.058668825790568084\n",
      "  (2863, 3576)\t0.16502989360008422\n",
      "  (2863, 2770)\t0.15905679984973384\n",
      "  (2863, 1643)\t0.1543682030730773\n",
      "  (2863, 1612)\t0.24558459393194074\n",
      "  (2863, 1337)\t0.13866725086729542\n",
      "  (2863, 649)\t0.15397214609269047\n",
      "  (2863, 519)\t0.12141993885745123\n",
      "  (2863, 279)\t0.09379124730689203\n",
      "  (2863, 82)\t0.10560498139756706\n",
      "  (2863, 59)\t0.2518306655986519\n"
     ]
    }
   ],
   "source": [
    "print(X_test)"
   ]
  },
  {
   "cell_type": "code",
   "execution_count": 178,
   "id": "cdd96dd0",
   "metadata": {},
   "outputs": [
    {
     "name": "stdout",
     "output_type": "stream",
     "text": [
      "  (0, 8636)\t0.10754455287029928\n",
      "  (0, 25708)\t0.22022213658210266\n",
      "  (0, 0)\t0.08884065918057905\n",
      "  (0, 468)\t0.10888043883675577\n",
      "  (0, 18154)\t0.24151598980897512\n",
      "  (0, 24616)\t0.21548654500339554\n",
      "  (0, 9581)\t0.055114413587572665\n",
      "  (0, 25633)\t0.05243544737592512\n",
      "  (0, 8158)\t0.1576480310876135\n",
      "  (0, 16537)\t0.07779110632374371\n",
      "  (0, 17372)\t0.09592773767133021\n",
      "  (0, 18653)\t0.0941867315376461\n",
      "  (0, 17966)\t0.092780701170139\n",
      "  (0, 8464)\t0.10957081702413558\n",
      "  (0, 24404)\t0.03349022882897863\n",
      "  (0, 21904)\t0.14655750744643814\n",
      "  (0, 15500)\t0.1438844712679046\n",
      "  (0, 13660)\t0.0525443469456563\n",
      "  (0, 24220)\t0.09592773767133021\n",
      "  (0, 20312)\t0.18173658614294247\n",
      "  (0, 12947)\t0.04127450979292047\n",
      "  (0, 26285)\t0.047541861463288496\n",
      "  (0, 20223)\t0.10305270195005836\n",
      "  (0, 12041)\t0.09215136856164713\n",
      "  (0, 25547)\t0.12013166312224437\n",
      "  :\t:\n",
      "  (2863, 19507)\t0.11781737170503623\n",
      "  (2863, 1930)\t0.08886713654270359\n",
      "  (2863, 10848)\t0.14876695054454595\n",
      "  (2863, 18853)\t0.04774499438662345\n",
      "  (2863, 16954)\t0.07169176734839831\n",
      "  (2863, 8299)\t0.1129248749503231\n",
      "  (2863, 25132)\t0.09284680952129548\n",
      "  (2863, 9141)\t0.09139331057997471\n",
      "  (2863, 20981)\t0.24344724894459435\n",
      "  (2863, 14378)\t0.06164838489015385\n",
      "  (2863, 14846)\t0.0686864191853682\n",
      "  (2863, 9548)\t0.1593734315345745\n",
      "  (2863, 15913)\t0.05341309382417322\n",
      "  (2863, 16782)\t0.06367458566153668\n",
      "  (2863, 3681)\t0.16813995041967256\n",
      "  (2863, 10542)\t0.10876256902762274\n",
      "  (2863, 12753)\t0.04838615410616715\n",
      "  (2863, 17776)\t0.05480587532494333\n",
      "  (2863, 3831)\t0.052086435870721676\n",
      "  (2863, 13127)\t0.11133867170288234\n",
      "  (2863, 0)\t0.0808266151210017\n",
      "  (2863, 12041)\t0.041919337768905565\n",
      "  (2863, 26625)\t0.03471537968408217\n",
      "  (2863, 17532)\t0.035637633368148375\n",
      "  (2863, 23366)\t0.027949330846987648\n"
     ]
    }
   ],
   "source": [
    "print(X_train)"
   ]
  },
  {
   "cell_type": "markdown",
   "id": "4e141571",
   "metadata": {},
   "source": [
    "# Train the naive_bayes model on training set"
   ]
  },
  {
   "cell_type": "code",
   "execution_count": 179,
   "id": "1bb4b825",
   "metadata": {},
   "outputs": [
    {
     "data": {
      "text/html": [
       "<style>#sk-container-id-9 {color: black;background-color: white;}#sk-container-id-9 pre{padding: 0;}#sk-container-id-9 div.sk-toggleable {background-color: white;}#sk-container-id-9 label.sk-toggleable__label {cursor: pointer;display: block;width: 100%;margin-bottom: 0;padding: 0.3em;box-sizing: border-box;text-align: center;}#sk-container-id-9 label.sk-toggleable__label-arrow:before {content: \"▸\";float: left;margin-right: 0.25em;color: #696969;}#sk-container-id-9 label.sk-toggleable__label-arrow:hover:before {color: black;}#sk-container-id-9 div.sk-estimator:hover label.sk-toggleable__label-arrow:before {color: black;}#sk-container-id-9 div.sk-toggleable__content {max-height: 0;max-width: 0;overflow: hidden;text-align: left;background-color: #f0f8ff;}#sk-container-id-9 div.sk-toggleable__content pre {margin: 0.2em;color: black;border-radius: 0.25em;background-color: #f0f8ff;}#sk-container-id-9 input.sk-toggleable__control:checked~div.sk-toggleable__content {max-height: 200px;max-width: 100%;overflow: auto;}#sk-container-id-9 input.sk-toggleable__control:checked~label.sk-toggleable__label-arrow:before {content: \"▾\";}#sk-container-id-9 div.sk-estimator input.sk-toggleable__control:checked~label.sk-toggleable__label {background-color: #d4ebff;}#sk-container-id-9 div.sk-label input.sk-toggleable__control:checked~label.sk-toggleable__label {background-color: #d4ebff;}#sk-container-id-9 input.sk-hidden--visually {border: 0;clip: rect(1px 1px 1px 1px);clip: rect(1px, 1px, 1px, 1px);height: 1px;margin: -1px;overflow: hidden;padding: 0;position: absolute;width: 1px;}#sk-container-id-9 div.sk-estimator {font-family: monospace;background-color: #f0f8ff;border: 1px dotted black;border-radius: 0.25em;box-sizing: border-box;margin-bottom: 0.5em;}#sk-container-id-9 div.sk-estimator:hover {background-color: #d4ebff;}#sk-container-id-9 div.sk-parallel-item::after {content: \"\";width: 100%;border-bottom: 1px solid gray;flex-grow: 1;}#sk-container-id-9 div.sk-label:hover label.sk-toggleable__label {background-color: #d4ebff;}#sk-container-id-9 div.sk-serial::before {content: \"\";position: absolute;border-left: 1px solid gray;box-sizing: border-box;top: 0;bottom: 0;left: 50%;z-index: 0;}#sk-container-id-9 div.sk-serial {display: flex;flex-direction: column;align-items: center;background-color: white;padding-right: 0.2em;padding-left: 0.2em;position: relative;}#sk-container-id-9 div.sk-item {position: relative;z-index: 1;}#sk-container-id-9 div.sk-parallel {display: flex;align-items: stretch;justify-content: center;background-color: white;position: relative;}#sk-container-id-9 div.sk-item::before, #sk-container-id-9 div.sk-parallel-item::before {content: \"\";position: absolute;border-left: 1px solid gray;box-sizing: border-box;top: 0;bottom: 0;left: 50%;z-index: -1;}#sk-container-id-9 div.sk-parallel-item {display: flex;flex-direction: column;z-index: 1;position: relative;background-color: white;}#sk-container-id-9 div.sk-parallel-item:first-child::after {align-self: flex-end;width: 50%;}#sk-container-id-9 div.sk-parallel-item:last-child::after {align-self: flex-start;width: 50%;}#sk-container-id-9 div.sk-parallel-item:only-child::after {width: 0;}#sk-container-id-9 div.sk-dashed-wrapped {border: 1px dashed gray;margin: 0 0.4em 0.5em 0.4em;box-sizing: border-box;padding-bottom: 0.4em;background-color: white;}#sk-container-id-9 div.sk-label label {font-family: monospace;font-weight: bold;display: inline-block;line-height: 1.2em;}#sk-container-id-9 div.sk-label-container {text-align: center;}#sk-container-id-9 div.sk-container {/* jupyter's `normalize.less` sets `[hidden] { display: none; }` but bootstrap.min.css set `[hidden] { display: none !important; }` so we also need the `!important` here to be able to override the default hidden behavior on the sphinx rendered scikit-learn.org. See: https://github.com/scikit-learn/scikit-learn/issues/21755 */display: inline-block !important;position: relative;}#sk-container-id-9 div.sk-text-repr-fallback {display: none;}</style><div id=\"sk-container-id-9\" class=\"sk-top-container\"><div class=\"sk-text-repr-fallback\"><pre>GaussianNB()</pre><b>In a Jupyter environment, please rerun this cell to show the HTML representation or trust the notebook. <br />On GitHub, the HTML representation is unable to render, please try loading this page with nbviewer.org.</b></div><div class=\"sk-container\" hidden><div class=\"sk-item\"><div class=\"sk-estimator sk-toggleable\"><input class=\"sk-toggleable__control sk-hidden--visually\" id=\"sk-estimator-id-9\" type=\"checkbox\" checked><label for=\"sk-estimator-id-9\" class=\"sk-toggleable__label sk-toggleable__label-arrow\">GaussianNB</label><div class=\"sk-toggleable__content\"><pre>GaussianNB()</pre></div></div></div></div></div>"
      ],
      "text/plain": [
       "GaussianNB()"
      ]
     },
     "execution_count": 179,
     "metadata": {},
     "output_type": "execute_result"
    }
   ],
   "source": [
    "from sklearn.naive_bayes import GaussianNB\n",
    "classifier = GaussianNB()\n",
    "classifier.fit(X_train.toarray(),y_train)"
   ]
  },
  {
   "cell_type": "markdown",
   "id": "c9fbcd38",
   "metadata": {},
   "source": [
    "# Predicting a new result"
   ]
  },
  {
   "cell_type": "code",
   "execution_count": 183,
   "id": "7e97c2ca",
   "metadata": {},
   "outputs": [
    {
     "name": "stdout",
     "output_type": "stream",
     "text": [
      "The email is not spam\n"
     ]
    }
   ],
   "source": [
    "input = \" financial engineering invoice # 2001 - m 608  connie :  in response to your email to vince kaminski of 3 / 19 / 01 , the subject invoice  was sent to our accounting dept . for payment on february 25 , 2001 . we  did not need the spav maintenance , so we deducted $ 1 , 600 . 00 . did you  receive a payment in the amount of $ 4100 . 00 that could possibly have been  payment for this invoice ?  i have left a message for our accounting dept . to see exactly when the invoice  was paid and the check number . as soon as i hear from them i will left you  know .  best regards ,  shirley crenshaw  administrative coordinator  enron research group  713 - 853 - 5290  email : shirley . crenshaw @ enron . com\"\n",
    "input_vector = vectorization.transform([input])\n",
    "prediction = classifier.predict(input_vector.toarray())\n",
    "if prediction[0] == 1:\n",
    "    print(\"The email is spam\")\n",
    "else:\n",
    "    print(\"The email is not spam\")"
   ]
  },
  {
   "cell_type": "markdown",
   "id": "1a240d03",
   "metadata": {},
   "source": [
    "# Predicting a test result"
   ]
  },
  {
   "cell_type": "code",
   "execution_count": 181,
   "id": "66df8b69",
   "metadata": {},
   "outputs": [
    {
     "name": "stdout",
     "output_type": "stream",
     "text": [
      "[[0 0]\n",
      " [0 0]\n",
      " [1 1]\n",
      " ...\n",
      " [1 1]\n",
      " [0 0]\n",
      " [1 1]]\n"
     ]
    }
   ],
   "source": [
    "y_pred = classifier.predict(X_test.toarray())\n",
    "print(np.concatenate((y_pred.reshape(len(y_pred),1), y_test.reshape(len(y_test),1)),1))"
   ]
  },
  {
   "cell_type": "markdown",
   "id": "624302a6",
   "metadata": {},
   "source": [
    "# Confusion matrix"
   ]
  },
  {
   "cell_type": "code",
   "execution_count": 182,
   "id": "7f1cd49e",
   "metadata": {},
   "outputs": [
    {
     "name": "stdout",
     "output_type": "stream",
     "text": [
      "[[2154   17]\n",
      " [ 137  556]]\n"
     ]
    },
    {
     "data": {
      "text/plain": [
       "0.9462290502793296"
      ]
     },
     "execution_count": 182,
     "metadata": {},
     "output_type": "execute_result"
    }
   ],
   "source": [
    "from sklearn.metrics import confusion_matrix, accuracy_score\n",
    "cm = confusion_matrix(y_test,y_pred)\n",
    "print(cm)\n",
    "accuracy_score(y_test,y_pred)"
   ]
  },
  {
   "cell_type": "code",
   "execution_count": null,
   "id": "9f0894bc",
   "metadata": {},
   "outputs": [],
   "source": []
  }
 ],
 "metadata": {
  "kernelspec": {
   "display_name": "Python 3",
   "language": "python",
   "name": "python3"
  },
  "language_info": {
   "codemirror_mode": {
    "name": "ipython",
    "version": 3
   },
   "file_extension": ".py",
   "mimetype": "text/x-python",
   "name": "python",
   "nbconvert_exporter": "python",
   "pygments_lexer": "ipython3",
   "version": "3.9.5"
  }
 },
 "nbformat": 4,
 "nbformat_minor": 5
}
